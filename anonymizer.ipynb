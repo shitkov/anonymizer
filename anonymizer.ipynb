{
  "nbformat": 4,
  "nbformat_minor": 0,
  "metadata": {
    "colab": {
      "name": "anonymizer.ipynb",
      "provenance": [],
      "collapsed_sections": [],
      "authorship_tag": "ABX9TyMFA8j/gexNK2M3dtAfZsCN",
      "include_colab_link": true
    },
    "kernelspec": {
      "name": "python3",
      "display_name": "Python 3"
    },
    "language_info": {
      "name": "python"
    },
    "accelerator": "GPU"
  },
  "cells": [
    {
      "cell_type": "markdown",
      "metadata": {
        "id": "view-in-github",
        "colab_type": "text"
      },
      "source": [
        "<a href=\"https://colab.research.google.com/github/shitkov/anonymizer/blob/main/anonymizer.ipynb\" target=\"_parent\"><img src=\"https://colab.research.google.com/assets/colab-badge.svg\" alt=\"Open In Colab\"/></a>"
      ]
    },
    {
      "cell_type": "code",
      "metadata": {
        "id": "zvpq9bmY8wut"
      },
      "source": [
        "%%capture\n",
        "!pip install pullenti-wrapper"
      ],
      "execution_count": 1,
      "outputs": []
    },
    {
      "cell_type": "code",
      "metadata": {
        "id": "L9q_Q5eeiSTf"
      },
      "source": [
        "import re\n",
        "import pullenti_wrapper\n",
        "from pullenti_wrapper.processor import Processor, ADDRESS, PERSON"
      ],
      "execution_count": 2,
      "outputs": []
    },
    {
      "cell_type": "code",
      "metadata": {
        "id": "TTzTj__6OS84"
      },
      "source": [
        "text = 'Перевести 1000 рублей со счета 12345678910 Иванову Ивану Ивновичу по номеру 89992128207 проживающему по адресу улица Ленина дом 1 квартира 8 и отправить чек на почту mail@mail.ai' "
      ],
      "execution_count": 3,
      "outputs": []
    },
    {
      "cell_type": "code",
      "metadata": {
        "id": "1Qcem-DQuBc5",
        "colab": {
          "base_uri": "https://localhost:8080/",
          "height": 35
        },
        "outputId": "7668c28b-3871-4ef3-e7a6-9df760d5bb8c"
      },
      "source": [
        "class Anonymizer:\n",
        "\n",
        "    def __new__(cls):\n",
        "        if not hasattr(cls, 'instance'):\n",
        "            cls.instance = super(Anonymizer, cls).__new__(cls)\n",
        "            cls.preprocessor = cls._init_preprocessor(cls)\n",
        "        return cls.instance\n",
        "    \n",
        "    def anonymize(self, text):\n",
        "        text = self._get_name_addr(text)\n",
        "        text = self._get_mail(text)\n",
        "        text = self._get_phone(text)\n",
        "        text = self._get_numbers(text)        \n",
        "        text = re.sub(r\" +\", \" \", text)\n",
        "        text = text.strip()\n",
        "        return text\n",
        "    \n",
        "    def _get_mail(self, text):\n",
        "        return re.sub(r'[\\w\\.-]+@[\\w\\.-]+', ' ', text)\n",
        "\n",
        "    def _get_phone(self, text):\n",
        "        return re.sub('\\d{3}[-\\.\\s]??\\d{3}[-\\.\\s]??\\d{4}|\\(\\d{3}\\)\\s*\\d{3}[-\\.\\s]??\\d{4}|\\d{3}[-\\.\\s]??\\d{4}', ' ', text)\n",
        "    \n",
        "    def _get_numbers(self, text):\n",
        "        return re.sub(r'\\d+', ' ', text)\n",
        "\n",
        "    def _get_name_addr(self, text):\n",
        "        result = self.preprocessor(text)\n",
        "        for m in result.matches:\n",
        "            start = m.span.start\n",
        "            stop = m.span.stop\n",
        "            find = text[start:stop]\n",
        "            replase = ' ' * (stop - start)\n",
        "            text = text.replace(find, replase)\n",
        "        return text\n",
        "\n",
        "    def _init_preprocessor(self):\n",
        "        return Processor([ADDRESS, PERSON])\n",
        "\n",
        "anonymizer = Anonymizer()\n",
        "anonymizer.anonymize(text)"
      ],
      "execution_count": 4,
      "outputs": [
        {
          "output_type": "execute_result",
          "data": {
            "application/vnd.google.colaboratory.intrinsic+json": {
              "type": "string"
            },
            "text/plain": [
              "'Перевести рублей со счета по номеру проживающему по и отправить чек на почту'"
            ]
          },
          "metadata": {},
          "execution_count": 4
        }
      ]
    }
  ]
}